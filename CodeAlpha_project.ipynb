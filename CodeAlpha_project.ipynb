{
  "nbformat": 4,
  "nbformat_minor": 0,
  "metadata": {
    "colab": {
      "provenance": []
    },
    "kernelspec": {
      "name": "python3",
      "display_name": "Python 3"
    },
    "language_info": {
      "name": "python"
    }
  },
  "cells": [
    {
      "cell_type": "code",
      "execution_count": 1,
      "metadata": {
        "colab": {
          "base_uri": "https://localhost:8080/"
        },
        "id": "hCaPj5fmmtK_",
        "outputId": "6a93452b-8e98-4c10-c428-2c4b06eca0de"
      },
      "outputs": [
        {
          "output_type": "stream",
          "name": "stdout",
          "text": [
            "Requirement already satisfied: flask in /usr/local/lib/python3.11/dist-packages (3.1.1)\n",
            "Collecting flask_sqlalchemy\n",
            "  Downloading flask_sqlalchemy-3.1.1-py3-none-any.whl.metadata (3.4 kB)\n",
            "Collecting pyngrok\n",
            "  Downloading pyngrok-7.2.11-py3-none-any.whl.metadata (9.4 kB)\n",
            "Requirement already satisfied: blinker>=1.9.0 in /usr/local/lib/python3.11/dist-packages (from flask) (1.9.0)\n",
            "Requirement already satisfied: click>=8.1.3 in /usr/local/lib/python3.11/dist-packages (from flask) (8.2.1)\n",
            "Requirement already satisfied: itsdangerous>=2.2.0 in /usr/local/lib/python3.11/dist-packages (from flask) (2.2.0)\n",
            "Requirement already satisfied: jinja2>=3.1.2 in /usr/local/lib/python3.11/dist-packages (from flask) (3.1.6)\n",
            "Requirement already satisfied: markupsafe>=2.1.1 in /usr/local/lib/python3.11/dist-packages (from flask) (3.0.2)\n",
            "Requirement already satisfied: werkzeug>=3.1.0 in /usr/local/lib/python3.11/dist-packages (from flask) (3.1.3)\n",
            "Requirement already satisfied: sqlalchemy>=2.0.16 in /usr/local/lib/python3.11/dist-packages (from flask_sqlalchemy) (2.0.41)\n",
            "Requirement already satisfied: PyYAML>=5.1 in /usr/local/lib/python3.11/dist-packages (from pyngrok) (6.0.2)\n",
            "Requirement already satisfied: greenlet>=1 in /usr/local/lib/python3.11/dist-packages (from sqlalchemy>=2.0.16->flask_sqlalchemy) (3.2.3)\n",
            "Requirement already satisfied: typing-extensions>=4.6.0 in /usr/local/lib/python3.11/dist-packages (from sqlalchemy>=2.0.16->flask_sqlalchemy) (4.14.0)\n",
            "Downloading flask_sqlalchemy-3.1.1-py3-none-any.whl (25 kB)\n",
            "Downloading pyngrok-7.2.11-py3-none-any.whl (25 kB)\n",
            "Installing collected packages: pyngrok, flask_sqlalchemy\n",
            "Successfully installed flask_sqlalchemy-3.1.1 pyngrok-7.2.11\n"
          ]
        }
      ],
      "source": [
        "!pip install flask flask_sqlalchemy pyngrok"
      ]
    },
    {
      "cell_type": "code",
      "source": [
        "from flask import Flask, request, redirect, render_template_string\n",
        "from flask_sqlalchemy import SQLAlchemy\n",
        "import string, random\n",
        "\n",
        "# Create Flask app\n",
        "app = Flask(__name__)\n",
        "app.config['SQLALCHEMY_DATABASE_URI'] = 'sqlite:///url.db'\n",
        "app.config['SQLALCHEMY_TRACK_MODIFICATIONS'] = False\n",
        "db = SQLAlchemy(app)\n",
        "\n",
        "# Database Model\n",
        "class URL(db.Model):\n",
        "    id = db.Column(db.Integer, primary_key=True)\n",
        "    long_url = db.Column(db.String(500), nullable=False)\n",
        "    short_code = db.Column(db.String(6), unique=True, nullable=False)\n",
        "\n",
        "# Short code generator\n",
        "def generate_short_code():\n",
        "    chars = string.ascii_letters + string.digits\n",
        "    while True:\n",
        "        code = ''.join(random.choices(chars, k=6))\n",
        "        if not URL.query.filter_by(short_code=code).first():\n",
        "            return code\n",
        "\n",
        "# HTML Template\n",
        "HTML_TEMPLATE = '''\n",
        "<!DOCTYPE html>\n",
        "<html>\n",
        "<head><title>URL Shortener</title></head>\n",
        "<body>\n",
        "    <h1>🔗 Simple URL Shortener</h1>\n",
        "    <form method=\"POST\">\n",
        "        <input name=\"long_url\" placeholder=\"Enter long URL\" style=\"width:300px;\" required>\n",
        "        <button type=\"submit\">Shorten</button>\n",
        "    </form>\n",
        "    {% if short_url %}\n",
        "    <p><b>Short URL:</b> <a href=\"{{ short_url }}\" target=\"_blank\">{{ short_url }}</a></p>\n",
        "    {% endif %}\n",
        "</body>\n",
        "</html>\n",
        "'''\n",
        "\n",
        "@app.route('/', methods=['GET', 'POST'])\n",
        "def index():\n",
        "    if request.method == 'POST':\n",
        "        long_url = request.form['long_url']\n",
        "        existing = URL.query.filter_by(long_url=long_url).first()\n",
        "        if existing:\n",
        "            short_code = existing.short_code\n",
        "        else:\n",
        "            short_code = generate_short_code()\n",
        "            new_url = URL(long_url=long_url, short_code=short_code)\n",
        "            db.session.add(new_url)\n",
        "            db.session.commit()\n",
        "        short_url = request.host_url + short_code\n",
        "        return render_template_string(HTML_TEMPLATE, short_url=short_url)\n",
        "    return render_template_string(HTML_TEMPLATE)\n",
        "\n",
        "@app.route('/<short_code>')\n",
        "def redirect_short_url(short_code):\n",
        "    url_entry = URL.query.filter_by(short_code=short_code).first_or_404()\n",
        "    return redirect(url_entry.long_url)\n"
      ],
      "metadata": {
        "id": "9u7pdhAhm6ZP"
      },
      "execution_count": 2,
      "outputs": []
    },
    {
      "cell_type": "code",
      "source": [
        "# ✅ Kill previous process using port 5000\n",
        "!kill -9 $(lsof -t -i:5000) 2>/dev/null\n",
        "\n",
        "from pyngrok import conf, ngrok\n",
        "import threading\n",
        "import time\n",
        "\n",
        "# 🔑 Set your ngrok authtoken here\n",
        "conf.get_default().auth_token = \"2zJ138qzNiWEiEB3d4BIPgA8YC1_83CiiAVsnpJ2LjF7EQteg\"\n",
        "\n",
        "# 📦 Create DB\n",
        "with app.app_context():\n",
        "    db.create_all()\n",
        "\n",
        "# 🚀 Start Flask server\n",
        "def run_flask():\n",
        "    app.run(port=5000)\n",
        "\n",
        "thread = threading.Thread(target=run_flask)\n",
        "thread.start()\n",
        "\n",
        "# ⏳ Wait for Flask to spin up\n",
        "time.sleep(3)\n",
        "\n",
        "# 🌐 Start ngrok tunnel\n",
        "public_url = ngrok.connect(5000)\n",
        "print(f\"🚀 Your app is live at: {public_url}\")\n"
      ],
      "metadata": {
        "colab": {
          "base_uri": "https://localhost:8080/"
        },
        "id": "jhCSNAYGnbZX",
        "outputId": "501417b0-e81e-4593-c4f3-36bb9dd162a0"
      },
      "execution_count": 3,
      "outputs": [
        {
          "output_type": "stream",
          "name": "stderr",
          "text": [
            "ERROR:root:Unexpected exception finding object shape\n",
            "Traceback (most recent call last):\n",
            "  File \"/usr/local/lib/python3.11/dist-packages/google/colab/_debugpy_repr.py\", line 54, in get_shape\n",
            "    shape = getattr(obj, 'shape', None)\n",
            "            ^^^^^^^^^^^^^^^^^^^^^^^^^^^\n",
            "  File \"/usr/local/lib/python3.11/dist-packages/werkzeug/local.py\", line 318, in __get__\n",
            "    obj = instance._get_current_object()\n",
            "          ^^^^^^^^^^^^^^^^^^^^^^^^^^^^^^\n",
            "  File \"/usr/local/lib/python3.11/dist-packages/werkzeug/local.py\", line 519, in _get_current_object\n",
            "    raise RuntimeError(unbound_message) from None\n",
            "RuntimeError: Working outside of request context.\n",
            "\n",
            "This typically means that you attempted to use functionality that needed\n",
            "an active HTTP request. Consult the documentation on testing for\n",
            "information about how to avoid this problem.\n"
          ]
        },
        {
          "output_type": "stream",
          "name": "stdout",
          "text": [
            " * Serving Flask app '__main__'\n",
            " * Debug mode: off\n"
          ]
        },
        {
          "output_type": "stream",
          "name": "stderr",
          "text": [
            "INFO:werkzeug:\u001b[31m\u001b[1mWARNING: This is a development server. Do not use it in a production deployment. Use a production WSGI server instead.\u001b[0m\n",
            " * Running on http://127.0.0.1:5000\n",
            "INFO:werkzeug:\u001b[33mPress CTRL+C to quit\u001b[0m\n",
            "ERROR:root:Unexpected exception finding object shape\n",
            "Traceback (most recent call last):\n",
            "  File \"/usr/local/lib/python3.11/dist-packages/google/colab/_debugpy_repr.py\", line 54, in get_shape\n",
            "    shape = getattr(obj, 'shape', None)\n",
            "            ^^^^^^^^^^^^^^^^^^^^^^^^^^^\n",
            "  File \"/usr/local/lib/python3.11/dist-packages/werkzeug/local.py\", line 318, in __get__\n",
            "    obj = instance._get_current_object()\n",
            "          ^^^^^^^^^^^^^^^^^^^^^^^^^^^^^^\n",
            "  File \"/usr/local/lib/python3.11/dist-packages/werkzeug/local.py\", line 519, in _get_current_object\n",
            "    raise RuntimeError(unbound_message) from None\n",
            "RuntimeError: Working outside of request context.\n",
            "\n",
            "This typically means that you attempted to use functionality that needed\n",
            "an active HTTP request. Consult the documentation on testing for\n",
            "information about how to avoid this problem.\n",
            "ERROR:root:Unexpected exception finding object shape\n",
            "Traceback (most recent call last):\n",
            "  File \"/usr/local/lib/python3.11/dist-packages/google/colab/_debugpy_repr.py\", line 54, in get_shape\n",
            "    shape = getattr(obj, 'shape', None)\n",
            "            ^^^^^^^^^^^^^^^^^^^^^^^^^^^\n",
            "  File \"/usr/local/lib/python3.11/dist-packages/werkzeug/local.py\", line 318, in __get__\n",
            "    obj = instance._get_current_object()\n",
            "          ^^^^^^^^^^^^^^^^^^^^^^^^^^^^^^\n",
            "  File \"/usr/local/lib/python3.11/dist-packages/werkzeug/local.py\", line 519, in _get_current_object\n",
            "    raise RuntimeError(unbound_message) from None\n",
            "RuntimeError: Working outside of request context.\n",
            "\n",
            "This typically means that you attempted to use functionality that needed\n",
            "an active HTTP request. Consult the documentation on testing for\n",
            "information about how to avoid this problem.\n"
          ]
        },
        {
          "output_type": "stream",
          "name": "stdout",
          "text": [
            "Downloading ngrok ...\r"
          ]
        },
        {
          "output_type": "stream",
          "name": "stderr",
          "text": [
            "ERROR:root:Unexpected exception finding object shape\n",
            "Traceback (most recent call last):\n",
            "  File \"/usr/local/lib/python3.11/dist-packages/google/colab/_debugpy_repr.py\", line 54, in get_shape\n",
            "    shape = getattr(obj, 'shape', None)\n",
            "            ^^^^^^^^^^^^^^^^^^^^^^^^^^^\n",
            "  File \"/usr/local/lib/python3.11/dist-packages/werkzeug/local.py\", line 318, in __get__\n",
            "    obj = instance._get_current_object()\n",
            "          ^^^^^^^^^^^^^^^^^^^^^^^^^^^^^^\n",
            "  File \"/usr/local/lib/python3.11/dist-packages/werkzeug/local.py\", line 519, in _get_current_object\n",
            "    raise RuntimeError(unbound_message) from None\n",
            "RuntimeError: Working outside of request context.\n",
            "\n",
            "This typically means that you attempted to use functionality that needed\n",
            "an active HTTP request. Consult the documentation on testing for\n",
            "information about how to avoid this problem.\n"
          ]
        },
        {
          "output_type": "stream",
          "name": "stdout",
          "text": []
        },
        {
          "output_type": "stream",
          "name": "stderr",
          "text": [
            "ERROR:root:Unexpected exception finding object shape\n",
            "Traceback (most recent call last):\n",
            "  File \"/usr/local/lib/python3.11/dist-packages/google/colab/_debugpy_repr.py\", line 54, in get_shape\n",
            "    shape = getattr(obj, 'shape', None)\n",
            "            ^^^^^^^^^^^^^^^^^^^^^^^^^^^\n",
            "  File \"/usr/local/lib/python3.11/dist-packages/werkzeug/local.py\", line 318, in __get__\n",
            "    obj = instance._get_current_object()\n",
            "          ^^^^^^^^^^^^^^^^^^^^^^^^^^^^^^\n",
            "  File \"/usr/local/lib/python3.11/dist-packages/werkzeug/local.py\", line 519, in _get_current_object\n",
            "    raise RuntimeError(unbound_message) from None\n",
            "RuntimeError: Working outside of request context.\n",
            "\n",
            "This typically means that you attempted to use functionality that needed\n",
            "an active HTTP request. Consult the documentation on testing for\n",
            "information about how to avoid this problem.\n"
          ]
        },
        {
          "output_type": "stream",
          "name": "stdout",
          "text": [
            "🚀 Your app is live at: NgrokTunnel: \"https://02c4-34-10-99-211.ngrok-free.app\" -> \"http://localhost:5000\"\n"
          ]
        }
      ]
    }
  ]
}