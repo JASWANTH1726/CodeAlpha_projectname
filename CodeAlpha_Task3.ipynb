{
  "nbformat": 4,
  "nbformat_minor": 0,
  "metadata": {
    "colab": {
      "provenance": []
    },
    "kernelspec": {
      "name": "python3",
      "display_name": "Python 3"
    },
    "language_info": {
      "name": "python"
    }
  },
  "cells": [
    {
      "cell_type": "code",
      "execution_count": 1,
      "metadata": {
        "colab": {
          "base_uri": "https://localhost:8080/"
        },
        "id": "-iN2p8zKzCaP",
        "outputId": "1fb1ab09-6fd4-49d3-8411-15f7d7236104"
      },
      "outputs": [
        {
          "output_type": "stream",
          "name": "stdout",
          "text": [
            "Collecting django\n",
            "  Downloading django-5.2.3-py3-none-any.whl.metadata (4.1 kB)\n",
            "Collecting pyngrok\n",
            "  Downloading pyngrok-7.2.11-py3-none-any.whl.metadata (9.4 kB)\n",
            "Collecting asgiref>=3.8.1 (from django)\n",
            "  Downloading asgiref-3.8.1-py3-none-any.whl.metadata (9.3 kB)\n",
            "Requirement already satisfied: sqlparse>=0.3.1 in /usr/local/lib/python3.11/dist-packages (from django) (0.5.3)\n",
            "Requirement already satisfied: PyYAML>=5.1 in /usr/local/lib/python3.11/dist-packages (from pyngrok) (6.0.2)\n",
            "Downloading django-5.2.3-py3-none-any.whl (8.3 MB)\n",
            "\u001b[2K   \u001b[90m━━━━━━━━━━━━━━━━━━━━━━━━━━━━━━━━━━━━━━━━\u001b[0m \u001b[32m8.3/8.3 MB\u001b[0m \u001b[31m39.1 MB/s\u001b[0m eta \u001b[36m0:00:00\u001b[0m\n",
            "\u001b[?25hDownloading pyngrok-7.2.11-py3-none-any.whl (25 kB)\n",
            "Downloading asgiref-3.8.1-py3-none-any.whl (23 kB)\n",
            "Installing collected packages: pyngrok, asgiref, django\n",
            "Successfully installed asgiref-3.8.1 django-5.2.3 pyngrok-7.2.11\n"
          ]
        }
      ],
      "source": [
        "!pip install django pyngrok\n"
      ]
    },
    {
      "cell_type": "code",
      "source": [
        "import os\n",
        "\n",
        "os.system(\"django-admin startproject restaurant_project\")\n",
        "os.chdir(\"restaurant_project\")\n",
        "os.system(\"python manage.py startapp restaurant\")\n"
      ],
      "metadata": {
        "colab": {
          "base_uri": "https://localhost:8080/"
        },
        "id": "N0ymaQCmzOOy",
        "outputId": "9d4346eb-931a-4720-eeae-c359082a9364"
      },
      "execution_count": 2,
      "outputs": [
        {
          "output_type": "execute_result",
          "data": {
            "text/plain": [
              "0"
            ]
          },
          "metadata": {},
          "execution_count": 2
        }
      ]
    },
    {
      "cell_type": "code",
      "source": [
        "settings_path = \"restaurant_project/settings.py\"\n",
        "\n",
        "with open(settings_path, \"r\") as file:\n",
        "    content = file.read()\n",
        "\n",
        "content = content.replace(\n",
        "    \"INSTALLED_APPS = [\",\n",
        "    \"INSTALLED_APPS = [\\n    'restaurant',\"\n",
        ").replace(\n",
        "    \"ALLOWED_HOSTS = []\",\n",
        "    \"ALLOWED_HOSTS = ['*']\"\n",
        ")\n",
        "\n",
        "with open(settings_path, \"w\") as file:\n",
        "    file.write(content)\n"
      ],
      "metadata": {
        "id": "D4RpcgNXzQB4"
      },
      "execution_count": 3,
      "outputs": []
    },
    {
      "cell_type": "code",
      "source": [
        "model_code = '''\n",
        "from django.db import models\n",
        "\n",
        "class Table(models.Model):\n",
        "    number = models.IntegerField(unique=True)\n",
        "    capacity = models.IntegerField()\n",
        "    is_reserved = models.BooleanField(default=False)\n",
        "\n",
        "class MenuItem(models.Model):\n",
        "    name = models.CharField(max_length=100)\n",
        "    price = models.FloatField()\n",
        "    stock = models.IntegerField()\n",
        "\n",
        "class Order(models.Model):\n",
        "    table = models.ForeignKey(Table, on_delete=models.CASCADE)\n",
        "    items = models.ManyToManyField(MenuItem)\n",
        "    timestamp = models.DateTimeField(auto_now_add=True)\n",
        "\n",
        "class Reservation(models.Model):\n",
        "    table = models.ForeignKey(Table, on_delete=models.CASCADE)\n",
        "    name = models.CharField(max_length=100)\n",
        "    time = models.DateTimeField()\n",
        "\n",
        "class Inventory(models.Model):\n",
        "    item_name = models.CharField(max_length=100)\n",
        "    quantity = models.IntegerField()\n",
        "'''\n",
        "with open(\"restaurant/models.py\", \"w\") as f:\n",
        "    f.write(model_code)\n"
      ],
      "metadata": {
        "id": "KdwufeztzTQr"
      },
      "execution_count": 4,
      "outputs": []
    },
    {
      "cell_type": "code",
      "source": [
        "!python manage.py makemigrations\n",
        "!python manage.py migrate\n"
      ],
      "metadata": {
        "colab": {
          "base_uri": "https://localhost:8080/"
        },
        "id": "tc86xJCxzWdp",
        "outputId": "5af1e695-6aaa-4c8d-ac74-c03fccd09c0b"
      },
      "execution_count": 5,
      "outputs": [
        {
          "output_type": "stream",
          "name": "stdout",
          "text": [
            "\u001b[36;1mMigrations for 'restaurant':\u001b[0m\n",
            "  \u001b[1mrestaurant/migrations/0001_initial.py\u001b[0m\n",
            "    + Create model Inventory\n",
            "    + Create model MenuItem\n",
            "    + Create model Table\n",
            "    + Create model Reservation\n",
            "    + Create model Order\n",
            "\u001b[36;1mOperations to perform:\u001b[0m\n",
            "\u001b[1m  Apply all migrations: \u001b[0madmin, auth, contenttypes, restaurant, sessions\n",
            "\u001b[36;1mRunning migrations:\u001b[0m\n",
            "  Applying contenttypes.0001_initial...\u001b[32;1m OK\u001b[0m\n",
            "  Applying auth.0001_initial...\u001b[32;1m OK\u001b[0m\n",
            "  Applying admin.0001_initial...\u001b[32;1m OK\u001b[0m\n",
            "  Applying admin.0002_logentry_remove_auto_add...\u001b[32;1m OK\u001b[0m\n",
            "  Applying admin.0003_logentry_add_action_flag_choices...\u001b[32;1m OK\u001b[0m\n",
            "  Applying contenttypes.0002_remove_content_type_name...\u001b[32;1m OK\u001b[0m\n",
            "  Applying auth.0002_alter_permission_name_max_length...\u001b[32;1m OK\u001b[0m\n",
            "  Applying auth.0003_alter_user_email_max_length...\u001b[32;1m OK\u001b[0m\n",
            "  Applying auth.0004_alter_user_username_opts...\u001b[32;1m OK\u001b[0m\n",
            "  Applying auth.0005_alter_user_last_login_null...\u001b[32;1m OK\u001b[0m\n",
            "  Applying auth.0006_require_contenttypes_0002...\u001b[32;1m OK\u001b[0m\n",
            "  Applying auth.0007_alter_validators_add_error_messages...\u001b[32;1m OK\u001b[0m\n",
            "  Applying auth.0008_alter_user_username_max_length...\u001b[32;1m OK\u001b[0m\n",
            "  Applying auth.0009_alter_user_last_name_max_length...\u001b[32;1m OK\u001b[0m\n",
            "  Applying auth.0010_alter_group_name_max_length...\u001b[32;1m OK\u001b[0m\n",
            "  Applying auth.0011_update_proxy_permissions...\u001b[32;1m OK\u001b[0m\n",
            "  Applying auth.0012_alter_user_first_name_max_length...\u001b[32;1m OK\u001b[0m\n",
            "  Applying restaurant.0001_initial...\u001b[32;1m OK\u001b[0m\n",
            "  Applying sessions.0001_initial...\u001b[32;1m OK\u001b[0m\n"
          ]
        }
      ]
    },
    {
      "cell_type": "code",
      "source": [
        "import django\n",
        "import threading\n",
        "import os\n",
        "\n",
        "os.environ.setdefault('DJANGO_SETTINGS_MODULE', 'restaurant_project.settings')\n",
        "django.setup()\n",
        "\n",
        "def create_superuser():\n",
        "    from django.contrib.auth.models import User\n",
        "    if not User.objects.filter(username='admin').exists():\n",
        "        User.objects.create_superuser('admin', 'admin@example.com', 'admin123')\n",
        "        print(\"✅ Superuser created.\")\n",
        "    else:\n",
        "        print(\"⚠️ Superuser already exists.\")\n",
        "\n",
        "thread = threading.Thread(target=create_superuser)\n",
        "thread.start()\n",
        "thread.join()\n"
      ],
      "metadata": {
        "colab": {
          "base_uri": "https://localhost:8080/"
        },
        "id": "qwJWyc6IzZp8",
        "outputId": "b099c4a5-d3c5-4515-9da3-07a5489e6ab9"
      },
      "execution_count": 6,
      "outputs": [
        {
          "output_type": "stream",
          "name": "stdout",
          "text": [
            "✅ Superuser created.\n"
          ]
        }
      ]
    },
    {
      "cell_type": "code",
      "source": [
        "# restaurant/views.py\n",
        "with open(\"restaurant/views.py\", \"w\") as f:\n",
        "    f.write('''\n",
        "from django.http import JsonResponse\n",
        "from .models import MenuItem, Table, Order, Inventory\n",
        "\n",
        "def home(request):\n",
        "    return JsonResponse({\"message\": \"🍽️ Welcome to Restaurant API\"})\n",
        "\n",
        "def menu(request):\n",
        "    items = list(MenuItem.objects.values())\n",
        "    return JsonResponse(items, safe=False)\n",
        "''')\n",
        "\n",
        "# restaurant/urls.py\n",
        "with open(\"restaurant/urls.py\", \"w\") as f:\n",
        "    f.write('''\n",
        "from django.urls import path\n",
        "from .views import home, menu\n",
        "\n",
        "urlpatterns = [\n",
        "    path('', home),\n",
        "    path('menu/', menu),\n",
        "]\n",
        "''')\n",
        "\n",
        "# restaurant_project/urls.py\n",
        "with open(\"restaurant_project/urls.py\", \"w\") as f:\n",
        "    f.write('''\n",
        "from django.contrib import admin\n",
        "from django.urls import path, include\n",
        "\n",
        "urlpatterns = [\n",
        "    path('admin/', admin.site.urls),\n",
        "    path('', include('restaurant.urls')),\n",
        "]\n",
        "''')\n"
      ],
      "metadata": {
        "id": "ZkkdPpGzze5c"
      },
      "execution_count": 7,
      "outputs": []
    },
    {
      "cell_type": "code",
      "source": [
        "# ✅ Kill any process using port 8000 (prevent port conflicts)\n",
        "!kill -9 $(lsof -t -i:8000) 2>/dev/null\n",
        "\n",
        "from pyngrok import ngrok\n",
        "import os\n",
        "import time\n",
        "import threading\n",
        "\n",
        "# 🔐 STEP 1: Replace with your working Ngrok Authtoken\n",
        "# 👉 Get it from: https://dashboard.ngrok.com/get-started/your-authtoken\n",
        "ngrok.set_auth_token(\"2zJ93Z39UdO1hWYmyihvX6sV21y_7k8RYnrPg3ifaMTATnekH\")  # 🔁 Replace this string!\n",
        "\n",
        "# 🚀 STEP 2: Start Django server in a thread\n",
        "def run_server():\n",
        "    os.system(\"python manage.py runserver 0.0.0.0:8000\")\n",
        "\n",
        "thread = threading.Thread(target=run_server)\n",
        "thread.start()\n",
        "\n",
        "# ⏳ STEP 3: Wait for server to boot up\n",
        "time.sleep(5)\n",
        "\n",
        "# 🌐 STEP 4: Create public ngrok tunnel\n",
        "public_url = ngrok.connect(8000)\n",
        "print(f\"🚀 Django server is live at: {public_url}\")\n"
      ],
      "metadata": {
        "colab": {
          "base_uri": "https://localhost:8080/"
        },
        "id": "-WvRhAmd0kfR",
        "outputId": "6104a54b-ab62-4f13-9d40-b81f4a27495e"
      },
      "execution_count": 12,
      "outputs": [
        {
          "output_type": "stream",
          "name": "stdout",
          "text": [
            "🚀 Django server is live at: NgrokTunnel: \"https://d6f9-34-83-175-200.ngrok-free.app\" -> \"http://localhost:8000\"\n"
          ]
        }
      ]
    }
  ]
}