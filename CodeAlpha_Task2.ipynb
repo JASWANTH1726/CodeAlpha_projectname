{
  "nbformat": 4,
  "nbformat_minor": 0,
  "metadata": {
    "colab": {
      "provenance": []
    },
    "kernelspec": {
      "name": "python3",
      "display_name": "Python 3"
    },
    "language_info": {
      "name": "python"
    }
  },
  "cells": [
    {
      "cell_type": "code",
      "source": [
        "!pip install django pyngrok\n"
      ],
      "metadata": {
        "colab": {
          "base_uri": "https://localhost:8080/"
        },
        "id": "X237kxuGxS6f",
        "outputId": "71ef641d-10f0-484c-a783-9a45ad936355"
      },
      "execution_count": 28,
      "outputs": [
        {
          "output_type": "stream",
          "name": "stdout",
          "text": [
            "Requirement already satisfied: django in /usr/local/lib/python3.11/dist-packages (5.2.3)\n",
            "Requirement already satisfied: pyngrok in /usr/local/lib/python3.11/dist-packages (7.2.11)\n",
            "Requirement already satisfied: asgiref>=3.8.1 in /usr/local/lib/python3.11/dist-packages (from django) (3.8.1)\n",
            "Requirement already satisfied: sqlparse>=0.3.1 in /usr/local/lib/python3.11/dist-packages (from django) (0.5.3)\n",
            "Requirement already satisfied: PyYAML>=5.1 in /usr/local/lib/python3.11/dist-packages (from pyngrok) (6.0.2)\n"
          ]
        }
      ]
    },
    {
      "cell_type": "code",
      "source": [
        "import os\n",
        "\n",
        "os.system(\"django-admin startproject event_project\")\n",
        "os.chdir(\"event_project\")\n",
        "os.system(\"python manage.py startapp events\")\n"
      ],
      "metadata": {
        "colab": {
          "base_uri": "https://localhost:8080/"
        },
        "id": "U6wnpMTexYuv",
        "outputId": "905dbd75-807c-431a-998c-cf4ec9993ecd"
      },
      "execution_count": 29,
      "outputs": [
        {
          "output_type": "execute_result",
          "data": {
            "text/plain": [
              "0"
            ]
          },
          "metadata": {},
          "execution_count": 29
        }
      ]
    },
    {
      "cell_type": "code",
      "source": [
        "settings_path = \"event_project/settings.py\"\n",
        "\n",
        "with open(settings_path, \"r\") as file:\n",
        "    content = file.read()\n",
        "\n",
        "content = content.replace(\n",
        "    \"INSTALLED_APPS = [\",\n",
        "    \"INSTALLED_APPS = [\\n    'events',\"\n",
        ").replace(\n",
        "    \"ALLOWED_HOSTS = []\",\n",
        "    \"ALLOWED_HOSTS = ['*']\"\n",
        ")\n",
        "\n",
        "with open(settings_path, \"w\") as file:\n",
        "    file.write(content)\n"
      ],
      "metadata": {
        "id": "_O6m0oTZxbMy"
      },
      "execution_count": 30,
      "outputs": []
    },
    {
      "cell_type": "code",
      "source": [
        "model_code = '''\n",
        "from django.db import models\n",
        "from django.contrib.auth.models import User\n",
        "\n",
        "class Event(models.Model):\n",
        "    title = models.CharField(max_length=200)\n",
        "    description = models.TextField()\n",
        "    date = models.DateTimeField()\n",
        "    location = models.CharField(max_length=255)\n",
        "\n",
        "    def __str__(self):\n",
        "        return self.title\n",
        "\n",
        "class Registration(models.Model):\n",
        "    user = models.ForeignKey(User, on_delete=models.CASCADE)\n",
        "    event = models.ForeignKey(Event, on_delete=models.CASCADE)\n",
        "    registered_at = models.DateTimeField(auto_now_add=True)\n",
        "\n",
        "    class Meta:\n",
        "        unique_together = ('user', 'event')\n",
        "'''\n",
        "with open(\"events/models.py\", \"w\") as f:\n",
        "    f.write(model_code)\n"
      ],
      "metadata": {
        "id": "VBddEALFxhBU"
      },
      "execution_count": 31,
      "outputs": []
    },
    {
      "cell_type": "code",
      "source": [
        "!python manage.py makemigrations\n",
        "!python manage.py migrate\n"
      ],
      "metadata": {
        "colab": {
          "base_uri": "https://localhost:8080/"
        },
        "id": "FwP-BRRjxiM1",
        "outputId": "ef352ad3-924e-438c-f821-e4aec64b2ba9"
      },
      "execution_count": 32,
      "outputs": [
        {
          "output_type": "stream",
          "name": "stdout",
          "text": [
            "\u001b[36;1mMigrations for 'events':\u001b[0m\n",
            "  \u001b[1mevents/migrations/0001_initial.py\u001b[0m\n",
            "    + Create model Event\n",
            "    + Create model Registration\n",
            "\u001b[36;1mOperations to perform:\u001b[0m\n",
            "\u001b[1m  Apply all migrations: \u001b[0madmin, auth, contenttypes, events, sessions\n",
            "\u001b[36;1mRunning migrations:\u001b[0m\n",
            "  Applying contenttypes.0001_initial...\u001b[32;1m OK\u001b[0m\n",
            "  Applying auth.0001_initial...\u001b[32;1m OK\u001b[0m\n",
            "  Applying admin.0001_initial...\u001b[32;1m OK\u001b[0m\n",
            "  Applying admin.0002_logentry_remove_auto_add...\u001b[32;1m OK\u001b[0m\n",
            "  Applying admin.0003_logentry_add_action_flag_choices...\u001b[32;1m OK\u001b[0m\n",
            "  Applying contenttypes.0002_remove_content_type_name...\u001b[32;1m OK\u001b[0m\n",
            "  Applying auth.0002_alter_permission_name_max_length...\u001b[32;1m OK\u001b[0m\n",
            "  Applying auth.0003_alter_user_email_max_length...\u001b[32;1m OK\u001b[0m\n",
            "  Applying auth.0004_alter_user_username_opts...\u001b[32;1m OK\u001b[0m\n",
            "  Applying auth.0005_alter_user_last_login_null...\u001b[32;1m OK\u001b[0m\n",
            "  Applying auth.0006_require_contenttypes_0002...\u001b[32;1m OK\u001b[0m\n",
            "  Applying auth.0007_alter_validators_add_error_messages...\u001b[32;1m OK\u001b[0m\n",
            "  Applying auth.0008_alter_user_username_max_length...\u001b[32;1m OK\u001b[0m\n",
            "  Applying auth.0009_alter_user_last_name_max_length...\u001b[32;1m OK\u001b[0m\n",
            "  Applying auth.0010_alter_group_name_max_length...\u001b[32;1m OK\u001b[0m\n",
            "  Applying auth.0011_update_proxy_permissions...\u001b[32;1m OK\u001b[0m\n",
            "  Applying auth.0012_alter_user_first_name_max_length...\u001b[32;1m OK\u001b[0m\n",
            "  Applying events.0001_initial...\u001b[32;1m OK\u001b[0m\n",
            "  Applying sessions.0001_initial...\u001b[32;1m OK\u001b[0m\n"
          ]
        }
      ]
    },
    {
      "cell_type": "code",
      "source": [
        "import django\n",
        "import threading\n",
        "import os\n",
        "\n",
        "os.environ.setdefault('DJANGO_SETTINGS_MODULE', 'event_project.settings')\n",
        "django.setup()\n",
        "\n",
        "def create_superuser():\n",
        "    from django.contrib.auth.models import User\n",
        "    if not User.objects.filter(username='admin').exists():\n",
        "        User.objects.create_superuser('admin', 'admin@example.com', 'admin123')\n",
        "        print(\"✅ Superuser created.\")\n",
        "    else:\n",
        "        print(\"⚠️ Superuser already exists.\")\n",
        "\n",
        "thread = threading.Thread(target=create_superuser)\n",
        "thread.start()\n",
        "thread.join()\n"
      ],
      "metadata": {
        "colab": {
          "base_uri": "https://localhost:8080/"
        },
        "id": "yRmqA8_YxrzF",
        "outputId": "a66517d1-faec-403f-9794-20f288153e98"
      },
      "execution_count": 33,
      "outputs": [
        {
          "output_type": "stream",
          "name": "stdout",
          "text": [
            "⚠️ Superuser already exists.\n"
          ]
        }
      ]
    },
    {
      "cell_type": "code",
      "source": [
        "# views.py\n",
        "with open(\"events/views.py\", \"w\") as f:\n",
        "    f.write('''\n",
        "from django.http import JsonResponse, HttpResponse\n",
        "from .models import Event\n",
        "\n",
        "def home(request):\n",
        "    return HttpResponse(\"<h1>🎉 Welcome to the Event API</h1><p>Visit <a href='/events/'>/events/</a></p>\")\n",
        "\n",
        "def event_list(request):\n",
        "    events = list(Event.objects.values())\n",
        "    return JsonResponse(events, safe=False)\n",
        "''')\n",
        "\n",
        "# urls.py for app\n",
        "with open(\"events/urls.py\", \"w\") as f:\n",
        "    f.write('''\n",
        "from django.urls import path\n",
        "from .views import event_list, home\n",
        "\n",
        "urlpatterns = [\n",
        "    path('', home),\n",
        "    path('events/', event_list),\n",
        "]\n",
        "''')\n",
        "\n",
        "# urls.py for project\n",
        "with open(\"event_project/urls.py\", \"w\") as f:\n",
        "    f.write('''\n",
        "from django.contrib import admin\n",
        "from django.urls import path, include\n",
        "\n",
        "urlpatterns = [\n",
        "    path('admin/', admin.site.urls),\n",
        "    path('', include('events.urls')),\n",
        "]\n",
        "''')\n"
      ],
      "metadata": {
        "id": "oUzbr0TYxxTZ"
      },
      "execution_count": 34,
      "outputs": []
    },
    {
      "cell_type": "code",
      "source": [
        "# Kill previous Django port\n",
        "!kill -9 $(lsof -t -i:8000) 2>/dev/null\n",
        "\n",
        "from pyngrok import ngrok\n",
        "import time\n",
        "import threading\n",
        "\n",
        "# Set your ngrok token\n",
        "ngrok.set_auth_token(\"2zJ138qzNiWEiEB3d4BIPgA8YC1_83CiiAVsnpJ2LjF7EQteg\")  # Replace with your token\n",
        "\n",
        "# Start Django server\n",
        "def run_server():\n",
        "    os.system(\"python manage.py runserver 0.0.0.0:8000\")\n",
        "\n",
        "thread = threading.Thread(target=run_server)\n",
        "thread.start()\n",
        "\n",
        "time.sleep(3)  # Wait for server to start\n",
        "\n",
        "# Start ngrok tunnel\n",
        "public_url = ngrok.connect(8000)\n",
        "print(\"🚀 Your app is live at:\", public_url)\n"
      ],
      "metadata": {
        "colab": {
          "base_uri": "https://localhost:8080/"
        },
        "id": "Ok4It1jYx0u8",
        "outputId": "39ee1246-043c-4af7-9be2-e3206a25b18a"
      },
      "execution_count": 35,
      "outputs": [
        {
          "output_type": "stream",
          "name": "stdout",
          "text": [
            "🚀 Your app is live at: NgrokTunnel: \"https://04c8-34-80-183-243.ngrok-free.app\" -> \"http://localhost:8000\"\n"
          ]
        }
      ]
    }
  ]
}